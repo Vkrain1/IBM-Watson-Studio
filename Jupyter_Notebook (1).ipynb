{
 "cells": [
  {
   "cell_type": "markdown",
   "metadata": {},
   "source": [
    "<center>\n",
    "    <img src=\"https://cf-courses-data.s3.us.cloud-object-storage.appdomain.cloud/IBMDeveloperSkillsNetwork-DS0105EN-SkillsNetwork/labs/Module2/images/SN_web_lightmode.png\" width=\"300\" alt=\"cognitiveclass.ai logo\">\n",
    "</center>\n"
   ]
  },
  {
   "cell_type": "markdown",
   "metadata": {},
   "source": [
    "#### Add your code below following the instructions given in the course\n"
   ]
  },
  {
   "cell_type": "markdown",
   "metadata": {},
   "source": [
    "# My Jupyter Notebook on IBM Watson Studio"
   ]
  },
  {
   "cell_type": "markdown",
   "metadata": {},
   "source": [
    " __Data Scientist__"
   ]
  },
  {
   "cell_type": "markdown",
   "metadata": {},
   "source": [
    "*I am interested in data science because I love communicating with data and drawing insights from data*"
   ]
  },
  {
   "cell_type": "markdown",
   "metadata": {},
   "source": [
    "### In cell 5, I defined a sum function to add two intergers together; the result was printed by calling on the sum fucntion."
   ]
  },
  {
   "cell_type": "code",
   "execution_count": 3,
   "metadata": {},
   "outputs": [
    {
     "data": {
      "text/plain": [
       "8"
      ]
     },
     "execution_count": 3,
     "metadata": {},
     "output_type": "execute_result"
    }
   ],
   "source": [
    "def sum(a,b):\n",
    "    return (a+b)\n",
    "sum(3,5)"
   ]
  },
  {
   "cell_type": "markdown",
   "metadata": {},
   "source": [
    "*  Orange\n",
    "*  Apple\n",
    "*  Strawberry\n",
    "\n",
    "***\n",
    "\n",
    "<img src=\"data:image/jpeg;base64,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\" alt=\"Alt text that describes the graphic\" title=\"Title text\" />\n",
    "\n",
    "***\n",
    "\n",
    "__[IBM](https://www.ibm.com/)__"
   ]
  },
  {
   "cell_type": "code",
   "execution_count": null,
   "metadata": {},
   "outputs": [],
   "source": []
  }
 ],
 "metadata": {
  "kernelspec": {
   "display_name": "Python",
   "language": "python",
   "name": "conda-env-python-py"
  },
  "language_info": {
   "codemirror_mode": {
    "name": "ipython",
    "version": 3
   },
   "file_extension": ".py",
   "mimetype": "text/x-python",
   "name": "python",
   "nbconvert_exporter": "python",
   "pygments_lexer": "ipython3",
   "version": "3.7.12"
  }
 },
 "nbformat": 4,
 "nbformat_minor": 4
}
